{
 "cells": [
  {
   "cell_type": "code",
   "execution_count": 1,
   "metadata": {},
   "outputs": [
    {
     "name": "stderr",
     "output_type": "stream",
     "text": [
      "RDKit WARNING: [15:42:59] Enabling RDKit 2019.09.3 jupyter extensions\n"
     ]
    }
   ],
   "source": [
    "import os\n",
    "from rdkit import Chem\n",
    "from rdkit import RDPaths\n",
    "from rdkit.Chem import AllChem\n",
    "from rdkit.Chem import DataStructs\n",
    "import numpy as np"
   ]
  },
  {
   "cell_type": "code",
   "execution_count": 2,
   "metadata": {},
   "outputs": [],
   "source": [
    "trainsdf = os.path.join(RDPaths.RDDocsDir, 'Book/data/solubility.train.sdf')\n",
    "testsdf =  os.path.join(RDPaths.RDDocsDir, 'Book/data/solubility.test.sdf')\n",
    "prop_dict = {\n",
    "    \"(A) low\": 0,\n",
    "    \"(B) medium\": 1,\n",
    "    \"(C) high\": 2\n",
    "}\n"
   ]
  },
  {
   "cell_type": "code",
   "execution_count": 3,
   "metadata": {},
   "outputs": [],
   "source": [
    "def ohencoder(cls, max_len):\n",
    "    arr = np.zeros((max_len,), dtype=np.int64)\n",
    "    arr[cls] = 1\n",
    "    return arr\n",
    "\n",
    "def fp2arr(fp):\n",
    "    arr = np.zeros((0,))\n",
    "    DataStructs.ConvertToNumpyArray(fp, arr)\n",
    "    return arr"
   ]
  },
  {
   "cell_type": "code",
   "execution_count": 4,
   "metadata": {},
   "outputs": [],
   "source": [
    "nbits = 1024\n",
    "ncls = 3\n",
    "\n",
    "trainmols = [m for m in Chem.SDMolSupplier(trainsdf)]\n",
    "testmols = [m for m in Chem.SDMolSupplier(testsdf)]\n",
    "\n",
    "train_fps = [AllChem.GetMorganFingerprintAsBitVect(m, 2, nBits=nbits) for m in trainmols]\n",
    "train_X = np.array([fp2arr(fp) for fp in train_fps], dtype=np.float32)\n",
    "\n",
    "train_y = np.array([ohencoder(prop_dict[m.GetProp('SOL_classification')], ncls) for m in trainmols])\n",
    "train_y = np.array([prop_dict[m.GetProp('SOL_classification')] for m in trainmols])\n",
    "train_y = np.array(train_y, dtype=np.int64)\n",
    "\n",
    "test_fps = [AllChem.GetMorganFingerprintAsBitVect(m, 2, nBits=nbits) for m in testmols]\n",
    "test_X = np.array([fp2arr(fp) for fp in test_fps], dtype=np.float32)\n",
    "\n",
    "test_y = np.array([ohencoder(prop_dict[m.GetProp('SOL_classification')], ncls) for m in testmols])\n",
    "test_y = np.array([prop_dict[m.GetProp('SOL_classification')] for m in testmols])\n",
    "test_y = np.array(test_y, dtype=np.int64)\n"
   ]
  },
  {
   "cell_type": "code",
   "execution_count": 5,
   "metadata": {},
   "outputs": [
    {
     "name": "stdout",
     "output_type": "stream",
     "text": [
      "use GPU\n"
     ]
    }
   ],
   "source": [
    "import torch\n",
    "if torch.cuda.is_available():\n",
    "    print('use GPU')\n",
    "    device='cuda'\n",
    "else:\n",
    "    print('use CPU')\n",
    "    device='cpu'"
   ]
  },
  {
   "cell_type": "code",
   "execution_count": 6,
   "metadata": {},
   "outputs": [
    {
     "name": "stderr",
     "output_type": "stream",
     "text": [
      "/home/takayuki/anaconda3/envs/chemo37/lib/python3.7/site-packages/sklearn/utils/deprecation.py:144: FutureWarning: The sklearn.metrics.scorer module is  deprecated in version 0.22 and will be removed in version 0.24. The corresponding classes / functions should instead be imported from sklearn.metrics. Anything that cannot be imported from sklearn.metrics is now part of the private API.\n",
      "  warnings.warn(message, FutureWarning)\n"
     ]
    }
   ],
   "source": [
    "from torch import nn\n",
    "import torch.nn.functional as F\n",
    "from skorch import NeuralNetClassifier"
   ]
  },
  {
   "cell_type": "code",
   "execution_count": 7,
   "metadata": {},
   "outputs": [],
   "source": [
    "class SimpleMLP(nn.Module):\n",
    "    def __init__(self, num_units=512, nonlin=F.relu):\n",
    "        super(SimpleMLP, self).__init__()\n",
    "        self.dense0 = nn.Linear(nbits, num_units)\n",
    "        self.nonlin = nonlin\n",
    "        self.dropout = nn.Dropout(0.5)\n",
    "        self.dense1 = nn.Linear(num_units, 10)\n",
    "        self.output = nn.Linear(10, ncls)\n",
    "    \n",
    "    def forward(self, x, **kwargs):\n",
    "        x = self.nonlin(self.dense0(x))\n",
    "        x = self.dropout(x)\n",
    "        x = F.relu(self.dense1(x))\n",
    "        x = F.softmax(self.output(x), dim=-1)\n",
    "        return x"
   ]
  },
  {
   "cell_type": "code",
   "execution_count": 8,
   "metadata": {},
   "outputs": [],
   "source": [
    "net = NeuralNetClassifier(SimpleMLP,\n",
    "                         max_epochs=100,\n",
    "                         lr=0.1,\n",
    "                         iterator_train__shuffle=True,\n",
    "                         device=device\n",
    "                         )"
   ]
  },
  {
   "cell_type": "code",
   "execution_count": 9,
   "metadata": {},
   "outputs": [
    {
     "name": "stdout",
     "output_type": "stream",
     "text": [
      "(1025, 1024) (1025,)\n"
     ]
    }
   ],
   "source": [
    "print(train_X.shape, train_y.shape)"
   ]
  },
  {
   "cell_type": "code",
   "execution_count": 10,
   "metadata": {},
   "outputs": [
    {
     "name": "stdout",
     "output_type": "stream",
     "text": [
      "  epoch    train_loss    valid_acc    valid_loss     dur\n",
      "-------  ------------  -----------  ------------  ------\n",
      "      1        \u001b[36m1.1241\u001b[0m       \u001b[32m0.3902\u001b[0m        \u001b[35m1.1102\u001b[0m  0.1851\n",
      "      2        \u001b[36m1.0958\u001b[0m       0.3902        \u001b[35m1.0887\u001b[0m  0.0205\n",
      "      3        \u001b[36m1.0753\u001b[0m       0.3902        \u001b[35m1.0770\u001b[0m  0.0215\n",
      "      4        \u001b[36m1.0630\u001b[0m       0.3902        \u001b[35m1.0697\u001b[0m  0.0190\n",
      "      5        \u001b[36m1.0550\u001b[0m       0.3902        \u001b[35m1.0635\u001b[0m  0.0222\n",
      "      6        \u001b[36m1.0486\u001b[0m       0.3902        \u001b[35m1.0596\u001b[0m  0.0210\n",
      "      7        \u001b[36m1.0418\u001b[0m       0.3902        \u001b[35m1.0570\u001b[0m  0.0241\n",
      "      8        \u001b[36m1.0371\u001b[0m       0.3902        \u001b[35m1.0546\u001b[0m  0.0249\n",
      "      9        \u001b[36m1.0326\u001b[0m       \u001b[32m0.4098\u001b[0m        \u001b[35m1.0521\u001b[0m  0.0205\n",
      "     10        \u001b[36m1.0283\u001b[0m       0.4098        \u001b[35m1.0493\u001b[0m  0.0217\n",
      "     11        \u001b[36m1.0208\u001b[0m       \u001b[32m0.4146\u001b[0m        \u001b[35m1.0465\u001b[0m  0.0256\n",
      "     12        \u001b[36m1.0141\u001b[0m       \u001b[32m0.4683\u001b[0m        \u001b[35m1.0435\u001b[0m  0.0252\n",
      "     13        \u001b[36m1.0077\u001b[0m       \u001b[32m0.5512\u001b[0m        \u001b[35m1.0394\u001b[0m  0.0262\n",
      "     14        \u001b[36m0.9992\u001b[0m       0.4488        \u001b[35m1.0335\u001b[0m  0.0261\n",
      "     15        \u001b[36m0.9895\u001b[0m       \u001b[32m0.5707\u001b[0m        \u001b[35m1.0286\u001b[0m  0.0274\n",
      "     16        \u001b[36m0.9784\u001b[0m       \u001b[32m0.6146\u001b[0m        \u001b[35m1.0228\u001b[0m  0.0243\n",
      "     17        \u001b[36m0.9668\u001b[0m       0.5951        \u001b[35m1.0176\u001b[0m  0.0243\n",
      "     18        \u001b[36m0.9473\u001b[0m       0.5951        \u001b[35m1.0094\u001b[0m  0.0244\n",
      "     19        \u001b[36m0.9319\u001b[0m       0.6000        \u001b[35m0.9961\u001b[0m  0.0219\n",
      "     20        \u001b[36m0.9154\u001b[0m       0.6146        \u001b[35m0.9856\u001b[0m  0.0226\n",
      "     21        \u001b[36m0.8959\u001b[0m       0.6000        \u001b[35m0.9791\u001b[0m  0.0243\n",
      "     22        \u001b[36m0.8751\u001b[0m       0.6000        \u001b[35m0.9751\u001b[0m  0.0233\n",
      "     23        \u001b[36m0.8572\u001b[0m       0.6098        \u001b[35m0.9642\u001b[0m  0.0235\n",
      "     24        \u001b[36m0.8330\u001b[0m       \u001b[32m0.6195\u001b[0m        \u001b[35m0.9543\u001b[0m  0.0254\n",
      "     25        \u001b[36m0.8179\u001b[0m       0.5854        \u001b[35m0.9469\u001b[0m  0.0226\n",
      "     26        \u001b[36m0.8005\u001b[0m       0.5512        \u001b[35m0.9421\u001b[0m  0.0231\n",
      "     27        \u001b[36m0.7745\u001b[0m       0.5073        \u001b[35m0.9377\u001b[0m  0.0255\n",
      "     28        \u001b[36m0.7538\u001b[0m       0.5561        \u001b[35m0.9212\u001b[0m  0.0243\n",
      "     29        \u001b[36m0.7362\u001b[0m       0.5122        0.9253  0.0206\n",
      "     30        \u001b[36m0.7183\u001b[0m       0.5268        \u001b[35m0.9163\u001b[0m  0.0196\n",
      "     31        \u001b[36m0.6995\u001b[0m       0.5073        \u001b[35m0.9138\u001b[0m  0.0207\n",
      "     32        \u001b[36m0.6744\u001b[0m       0.5805        \u001b[35m0.8818\u001b[0m  0.0220\n",
      "     33        \u001b[36m0.6605\u001b[0m       0.5610        \u001b[35m0.8740\u001b[0m  0.0230\n",
      "     34        \u001b[36m0.6573\u001b[0m       0.5024        0.8920  0.0228\n",
      "     35        \u001b[36m0.6293\u001b[0m       0.4780        0.9013  0.0253\n",
      "     36        \u001b[36m0.6236\u001b[0m       0.5171        0.8778  0.0255\n",
      "     37        \u001b[36m0.5958\u001b[0m       0.5073        \u001b[35m0.8738\u001b[0m  0.0247\n",
      "     38        \u001b[36m0.5720\u001b[0m       0.5707        \u001b[35m0.8505\u001b[0m  0.0227\n",
      "     39        \u001b[36m0.5591\u001b[0m       0.5415        0.8629  0.0240\n",
      "     40        \u001b[36m0.5483\u001b[0m       0.5171        0.8650  0.0233\n",
      "     41        \u001b[36m0.5281\u001b[0m       0.5317        0.8613  0.0231\n",
      "     42        \u001b[36m0.5236\u001b[0m       0.5122        0.8625  0.0214\n",
      "     43        \u001b[36m0.5004\u001b[0m       0.5415        0.8508  0.0216\n",
      "     44        \u001b[36m0.4749\u001b[0m       0.5610        \u001b[35m0.8302\u001b[0m  0.0251\n",
      "     45        \u001b[36m0.4705\u001b[0m       0.5366        0.8481  0.0239\n",
      "     46        \u001b[36m0.4577\u001b[0m       0.5756        \u001b[35m0.8138\u001b[0m  0.0240\n",
      "     47        \u001b[36m0.4514\u001b[0m       0.5415        0.8611  0.0270\n",
      "     48        \u001b[36m0.4411\u001b[0m       0.5805        0.8287  0.0249\n",
      "     49        \u001b[36m0.4204\u001b[0m       0.5317        0.8613  0.0248\n",
      "     50        \u001b[36m0.4043\u001b[0m       0.5610        0.8496  0.0349\n",
      "     51        \u001b[36m0.3820\u001b[0m       0.5463        0.8454  0.0242\n",
      "     52        \u001b[36m0.3784\u001b[0m       0.5561        0.8368  0.0262\n",
      "     53        \u001b[36m0.3578\u001b[0m       0.5512        0.8557  0.0262\n",
      "     54        \u001b[36m0.3561\u001b[0m       0.5512        0.8632  0.0226\n",
      "     55        \u001b[36m0.3299\u001b[0m       0.5610        0.8281  0.0219\n",
      "     56        \u001b[36m0.3131\u001b[0m       0.5073        0.8998  0.0268\n",
      "     57        0.3137       0.5463        0.8501  0.0230\n",
      "     58        \u001b[36m0.3065\u001b[0m       0.5610        0.8464  0.0234\n",
      "     59        \u001b[36m0.2936\u001b[0m       0.5659        0.8392  0.0277\n",
      "     60        \u001b[36m0.2827\u001b[0m       0.5610        0.8537  0.0214\n",
      "     61        \u001b[36m0.2681\u001b[0m       0.5366        0.8827  0.0243\n",
      "     62        \u001b[36m0.2637\u001b[0m       0.5220        0.9061  0.0250\n",
      "     63        \u001b[36m0.2521\u001b[0m       0.5415        0.8930  0.0235\n",
      "     64        \u001b[36m0.2354\u001b[0m       0.5659        0.8644  0.0244\n",
      "     65        0.2533       0.5951        0.8504  0.0244\n",
      "     66        0.2376       0.5707        0.8635  0.0236\n",
      "     67        \u001b[36m0.2313\u001b[0m       0.5707        0.8623  0.0248\n",
      "     68        \u001b[36m0.2117\u001b[0m       0.5220        0.9286  0.0245\n",
      "     69        \u001b[36m0.2047\u001b[0m       0.4976        0.9837  0.0231\n",
      "     70        \u001b[36m0.1935\u001b[0m       0.5902        0.8796  0.0249\n",
      "     71        0.2217       0.5317        0.9278  0.0225\n",
      "     72        \u001b[36m0.1814\u001b[0m       0.5902        0.8909  0.0234\n",
      "     73        \u001b[36m0.1804\u001b[0m       0.5854        0.9098  0.0234\n",
      "     74        \u001b[36m0.1676\u001b[0m       0.6098        0.8958  0.0247\n",
      "     75        \u001b[36m0.1593\u001b[0m       0.5415        0.9780  0.0230\n",
      "     76        0.1603       0.5463        0.9585  0.0231\n",
      "     77        \u001b[36m0.1472\u001b[0m       0.5951        0.9058  0.0238\n",
      "     78        \u001b[36m0.1442\u001b[0m       0.5805        0.9237  0.0238\n",
      "     79        \u001b[36m0.1405\u001b[0m       0.5561        0.9498  0.0231\n",
      "     80        \u001b[36m0.1315\u001b[0m       0.5951        0.9243  0.0233\n",
      "     81        \u001b[36m0.1301\u001b[0m       0.5171        1.0125  0.0218\n",
      "     82        0.1332       0.5561        0.9874  0.0316\n",
      "     83        \u001b[36m0.1254\u001b[0m       0.6049        0.9477  0.0234\n",
      "     84        \u001b[36m0.1244\u001b[0m       0.5707        0.9864  0.0231\n",
      "     85        \u001b[36m0.1164\u001b[0m       0.6098        0.9648  0.0207\n",
      "     86        \u001b[36m0.1158\u001b[0m       0.5756        0.9907  0.0266\n",
      "     87        \u001b[36m0.1029\u001b[0m       0.5854        0.9906  0.0228\n",
      "     88        0.1078       0.5902        1.0010  0.0225\n",
      "     89        \u001b[36m0.0968\u001b[0m       0.6049        0.9779  0.0227\n",
      "     90        0.0998       0.5756        0.9827  0.0229\n",
      "     91        \u001b[36m0.0880\u001b[0m       0.5805        1.0280  0.0223\n",
      "     92        0.0990       0.5951        1.0293  0.0223\n",
      "     93        0.0940       0.6000        1.0190  0.0231\n",
      "     94        0.0956       0.6000        1.0272  0.0233\n",
      "     95        \u001b[36m0.0803\u001b[0m       0.6000        1.0190  0.0229\n",
      "     96        0.0811       0.5756        1.0417  0.0249\n",
      "     97        \u001b[36m0.0758\u001b[0m       0.5951        1.0313  0.0244\n",
      "     98        0.0774       0.6000        1.0294  0.0239\n",
      "     99        \u001b[36m0.0741\u001b[0m       0.5415        1.0987  0.0236\n",
      "    100        0.0831       0.6146        1.0327  0.0251\n"
     ]
    },
    {
     "data": {
      "text/plain": [
       "<class 'skorch.classifier.NeuralNetClassifier'>[initialized](\n",
       "  module_=SimpleMLP(\n",
       "    (dense0): Linear(in_features=1024, out_features=512, bias=True)\n",
       "    (dropout): Dropout(p=0.5, inplace=False)\n",
       "    (dense1): Linear(in_features=512, out_features=10, bias=True)\n",
       "    (output): Linear(in_features=10, out_features=3, bias=True)\n",
       "  ),\n",
       ")"
      ]
     },
     "execution_count": 10,
     "metadata": {},
     "output_type": "execute_result"
    }
   ],
   "source": [
    "net.fit(train_X, train_y)"
   ]
  },
  {
   "cell_type": "code",
   "execution_count": 11,
   "metadata": {},
   "outputs": [],
   "source": [
    "pred = net.predict(test_X)"
   ]
  },
  {
   "cell_type": "code",
   "execution_count": 12,
   "metadata": {},
   "outputs": [],
   "source": [
    "from sklearn.metrics import confusion_matrix, classification_report"
   ]
  },
  {
   "cell_type": "code",
   "execution_count": 13,
   "metadata": {},
   "outputs": [
    {
     "data": {
      "text/plain": [
       "array([[83, 18,  1],\n",
       "       [35, 72,  8],\n",
       "       [ 0, 11, 29]])"
      ]
     },
     "execution_count": 13,
     "metadata": {},
     "output_type": "execute_result"
    }
   ],
   "source": [
    "confusion_matrix(test_y, pred)"
   ]
  },
  {
   "cell_type": "code",
   "execution_count": 14,
   "metadata": {},
   "outputs": [
    {
     "name": "stdout",
     "output_type": "stream",
     "text": [
      "              precision    recall  f1-score   support\n",
      "\n",
      "           0       0.70      0.81      0.75       102\n",
      "           1       0.71      0.63      0.67       115\n",
      "           2       0.76      0.72      0.74        40\n",
      "\n",
      "    accuracy                           0.72       257\n",
      "   macro avg       0.73      0.72      0.72       257\n",
      "weighted avg       0.72      0.72      0.71       257\n",
      "\n"
     ]
    }
   ],
   "source": [
    "print(classification_report(test_y, pred))"
   ]
  },
  {
   "cell_type": "code",
   "execution_count": 15,
   "metadata": {},
   "outputs": [],
   "source": [
    "from skorch import NeuralNetRegressor"
   ]
  },
  {
   "cell_type": "code",
   "execution_count": 16,
   "metadata": {},
   "outputs": [],
   "source": [
    "class MLP_regressor(nn.Module):\n",
    "    def __init__(self, num_units=512, nonlin=F.relu):\n",
    "        super(MLP_regressor, self).__init__()\n",
    "        self.dense0 = nn.Linear(nbits, num_units)\n",
    "        self.nonlin = nonlin\n",
    "        self.dropout = nn.Dropout(0.5)\n",
    "        self.dense1 = nn.Linear(num_units, 10)\n",
    "        self.output = nn.Linear(10, 1)\n",
    "    \n",
    "    def forward(self, x, **kwargs):\n",
    "        x = self.nonlin(self.dense0(x))\n",
    "        x = self.dropout(x)\n",
    "        x = F.relu(self.dense1(x))\n",
    "        x = self.output(x)\n",
    "        return x"
   ]
  },
  {
   "cell_type": "code",
   "execution_count": 17,
   "metadata": {},
   "outputs": [],
   "source": [
    "regressor = NeuralNetRegressor(MLP_regressor,\n",
    "                              max_epochs=100,\n",
    "                              iterator_train__shuffle=True,\n",
    "                              device=device)"
   ]
  },
  {
   "cell_type": "code",
   "execution_count": 18,
   "metadata": {},
   "outputs": [],
   "source": [
    "train_y_reg = np.array([float(m.GetProp('SOL')) for m in trainmols], dtype=np.float32).reshape(-1,1)\n",
    "test_y_reg = np.array([float(m.GetProp('SOL')) for m in testmols], dtype=np.float32).reshape(-1,1)"
   ]
  },
  {
   "cell_type": "code",
   "execution_count": 19,
   "metadata": {},
   "outputs": [
    {
     "name": "stdout",
     "output_type": "stream",
     "text": [
      "  epoch    train_loss    valid_loss     dur\n",
      "-------  ------------  ------------  ------\n",
      "      1        \u001b[36m8.3883\u001b[0m       \u001b[32m17.1863\u001b[0m  0.0306\n",
      "      2        \u001b[36m6.5962\u001b[0m       \u001b[32m14.1763\u001b[0m  0.0286\n",
      "      3        \u001b[36m5.0376\u001b[0m       \u001b[32m11.2894\u001b[0m  0.0283\n",
      "      4        \u001b[36m3.8539\u001b[0m        \u001b[32m8.6574\u001b[0m  0.0275\n",
      "      5        \u001b[36m3.2040\u001b[0m        \u001b[32m7.2481\u001b[0m  0.0274\n",
      "      6        \u001b[36m3.0509\u001b[0m        \u001b[32m6.8971\u001b[0m  0.0229\n",
      "      7        \u001b[36m2.9105\u001b[0m        \u001b[32m6.4633\u001b[0m  0.0245\n",
      "      8        \u001b[36m2.8270\u001b[0m        \u001b[32m6.4574\u001b[0m  0.0227\n",
      "      9        \u001b[36m2.7648\u001b[0m        \u001b[32m6.2469\u001b[0m  0.0231\n",
      "     10        \u001b[36m2.6605\u001b[0m        \u001b[32m5.8732\u001b[0m  0.0234\n",
      "     11        \u001b[36m2.5735\u001b[0m        \u001b[32m5.8100\u001b[0m  0.0226\n",
      "     12        \u001b[36m2.4718\u001b[0m        \u001b[32m5.6538\u001b[0m  0.0231\n",
      "     13        \u001b[36m2.3772\u001b[0m        \u001b[32m5.4258\u001b[0m  0.0216\n",
      "     14        \u001b[36m2.2715\u001b[0m        \u001b[32m5.2761\u001b[0m  0.0226\n",
      "     15        \u001b[36m2.1863\u001b[0m        \u001b[32m5.1872\u001b[0m  0.0231\n",
      "     16        \u001b[36m2.1007\u001b[0m        \u001b[32m5.0222\u001b[0m  0.0229\n",
      "     17        \u001b[36m2.0132\u001b[0m        \u001b[32m4.5049\u001b[0m  0.0231\n",
      "     18        \u001b[36m1.9366\u001b[0m        \u001b[32m4.3733\u001b[0m  0.0225\n",
      "     19        \u001b[36m1.8410\u001b[0m        \u001b[32m4.2831\u001b[0m  0.0234\n",
      "     20        \u001b[36m1.7540\u001b[0m        \u001b[32m4.1578\u001b[0m  0.0237\n",
      "     21        \u001b[36m1.7403\u001b[0m        \u001b[32m4.1353\u001b[0m  0.0231\n",
      "     22        \u001b[36m1.6494\u001b[0m        \u001b[32m4.1104\u001b[0m  0.0240\n",
      "     23        \u001b[36m1.5977\u001b[0m        \u001b[32m3.9285\u001b[0m  0.0230\n",
      "     24        \u001b[36m1.4967\u001b[0m        \u001b[32m3.8087\u001b[0m  0.0237\n",
      "     25        1.4977        \u001b[32m3.7442\u001b[0m  0.0240\n",
      "     26        \u001b[36m1.4334\u001b[0m        \u001b[32m3.4597\u001b[0m  0.0245\n",
      "     27        \u001b[36m1.3986\u001b[0m        \u001b[32m3.2430\u001b[0m  0.0261\n",
      "     28        1.4048        3.2585  0.0242\n",
      "     29        \u001b[36m1.2956\u001b[0m        3.3637  0.0224\n",
      "     30        1.3082        \u001b[32m2.8170\u001b[0m  0.0275\n",
      "     31        \u001b[36m1.2322\u001b[0m        3.3244  0.0298\n",
      "     32        \u001b[36m1.2131\u001b[0m        3.1469  0.0264\n",
      "     33        \u001b[36m1.1493\u001b[0m        3.1787  0.0246\n",
      "     34        1.1660        3.1608  0.0248\n",
      "     35        \u001b[36m1.0682\u001b[0m        3.1137  0.0227\n",
      "     36        \u001b[36m1.0433\u001b[0m        3.1059  0.0249\n",
      "     37        1.0521        \u001b[32m2.7938\u001b[0m  0.0231\n",
      "     38        \u001b[36m1.0119\u001b[0m        2.8752  0.0247\n",
      "     39        1.0360        3.0316  0.0290\n",
      "     40        \u001b[36m1.0020\u001b[0m        2.9186  0.0236\n",
      "     41        \u001b[36m0.9612\u001b[0m        2.9400  0.0262\n",
      "     42        \u001b[36m0.9103\u001b[0m        3.1770  0.0224\n",
      "     43        0.9250        \u001b[32m2.7893\u001b[0m  0.0235\n",
      "     44        \u001b[36m0.8934\u001b[0m        2.9912  0.0220\n",
      "     45        \u001b[36m0.8769\u001b[0m        2.7896  0.0238\n",
      "     46        0.8840        \u001b[32m2.7329\u001b[0m  0.0222\n",
      "     47        \u001b[36m0.8396\u001b[0m        2.9683  0.0242\n",
      "     48        \u001b[36m0.8261\u001b[0m        2.8544  0.0232\n",
      "     49        \u001b[36m0.7896\u001b[0m        3.0367  0.0215\n",
      "     50        \u001b[36m0.7872\u001b[0m        2.9500  0.0245\n",
      "     51        \u001b[36m0.7856\u001b[0m        2.8183  0.0221\n",
      "     52        0.8152        3.1700  0.0217\n",
      "     53        \u001b[36m0.7524\u001b[0m        2.8831  0.0227\n",
      "     54        \u001b[36m0.7211\u001b[0m        2.8980  0.0237\n",
      "     55        \u001b[36m0.6881\u001b[0m        3.0216  0.0249\n",
      "     56        0.7062        2.8110  0.0243\n",
      "     57        \u001b[36m0.6758\u001b[0m        2.8574  0.0254\n",
      "     58        0.7100        2.9015  0.0252\n",
      "     59        \u001b[36m0.6580\u001b[0m        \u001b[32m2.6961\u001b[0m  0.0246\n",
      "     60        \u001b[36m0.6526\u001b[0m        2.7622  0.0284\n",
      "     61        0.6526        2.9934  0.0220\n",
      "     62        \u001b[36m0.6060\u001b[0m        2.7052  0.0239\n",
      "     63        0.6297        2.7924  0.0228\n",
      "     64        0.6373        2.8881  0.0230\n",
      "     65        0.6203        2.7376  0.0226\n",
      "     66        \u001b[36m0.5583\u001b[0m        2.7498  0.0218\n",
      "     67        0.5769        \u001b[32m2.6117\u001b[0m  0.0233\n",
      "     68        0.5766        2.8356  0.0219\n",
      "     69        0.5852        2.6302  0.0219\n",
      "     70        \u001b[36m0.5328\u001b[0m        \u001b[32m2.5900\u001b[0m  0.0231\n",
      "     71        0.5698        \u001b[32m2.4350\u001b[0m  0.0242\n",
      "     72        0.5705        2.7150  0.0223\n",
      "     73        0.5583        2.7937  0.0213\n",
      "     74        \u001b[36m0.5272\u001b[0m        2.8215  0.0247\n",
      "     75        0.5321        2.7972  0.0230\n",
      "     76        \u001b[36m0.5189\u001b[0m        2.7521  0.0258\n",
      "     77        \u001b[36m0.4966\u001b[0m        2.8893  0.0265\n",
      "     78        0.5104        3.1257  0.0247\n",
      "     79        0.5103        2.7356  0.0254\n",
      "     80        \u001b[36m0.4885\u001b[0m        2.4950  0.0254\n",
      "     81        \u001b[36m0.4659\u001b[0m        2.6989  0.0271\n",
      "     82        0.4698        2.7395  0.0279\n",
      "     83        \u001b[36m0.4523\u001b[0m        2.5871  0.0244\n",
      "     84        0.4910        \u001b[32m2.3196\u001b[0m  0.0252\n",
      "     85        0.4966        2.7261  0.0251\n",
      "     86        0.4551        2.4604  0.0257\n",
      "     87        0.4553        2.5509  0.0255\n",
      "     88        0.4798        2.6109  0.0256\n",
      "     89        \u001b[36m0.4405\u001b[0m        2.7456  0.0250\n",
      "     90        \u001b[36m0.4051\u001b[0m        2.8325  0.0257\n",
      "     91        0.4186        2.4883  0.0235\n",
      "     92        0.4317        2.8874  0.0246\n",
      "     93        0.4411        2.6431  0.0251\n",
      "     94        \u001b[36m0.3991\u001b[0m        2.6045  0.0247\n",
      "     95        0.4120        2.7204  0.0245\n",
      "     96        0.4121        2.6690  0.0251\n",
      "     97        \u001b[36m0.3956\u001b[0m        2.7324  0.0265\n",
      "     98        \u001b[36m0.3835\u001b[0m        2.7552  0.0257\n",
      "     99        0.4026        2.6741  0.0236\n",
      "    100        \u001b[36m0.3729\u001b[0m        2.7019  0.0245\n"
     ]
    },
    {
     "data": {
      "text/plain": [
       "<class 'skorch.regressor.NeuralNetRegressor'>[initialized](\n",
       "  module_=MLP_regressor(\n",
       "    (dense0): Linear(in_features=1024, out_features=512, bias=True)\n",
       "    (dropout): Dropout(p=0.5, inplace=False)\n",
       "    (dense1): Linear(in_features=512, out_features=10, bias=True)\n",
       "    (output): Linear(in_features=10, out_features=1, bias=True)\n",
       "  ),\n",
       ")"
      ]
     },
     "execution_count": 19,
     "metadata": {},
     "output_type": "execute_result"
    }
   ],
   "source": [
    "regressor.fit(train_X, train_y_reg)"
   ]
  },
  {
   "cell_type": "code",
   "execution_count": 20,
   "metadata": {},
   "outputs": [],
   "source": [
    "reg_y = regressor.predict(test_X)"
   ]
  },
  {
   "cell_type": "code",
   "execution_count": 21,
   "metadata": {},
   "outputs": [],
   "source": [
    "%matplotlib inline\n",
    "import matplotlib.pyplot as plt"
   ]
  },
  {
   "cell_type": "code",
   "execution_count": 22,
   "metadata": {},
   "outputs": [
    {
     "data": {
      "text/plain": [
       "Text(0, 0.5, 'exp')"
      ]
     },
     "execution_count": 22,
     "metadata": {},
     "output_type": "execute_result"
    },
    {
     "data": {
      "image/png": "[encoded data removed]",
      "text/plain": [
       "<Figure size 432x288 with 1 Axes>"
      ]
     },
     "metadata": {
      "needs_background": "light"
     },
     "output_type": "display_data"
    }
   ],
   "source": [
    "plt.plot(np.arange(-9,2), np.arange(-9,2), color='pink', alpha=0.7)\n",
    "plt.scatter(reg_y, test_y_reg)\n",
    "plt.xlabel('predicted')\n",
    "plt.ylabel('exp')"
   ]
  },
  {
   "cell_type": "code",
   "execution_count": 23,
   "metadata": {},
   "outputs": [
    {
     "name": "stdout",
     "output_type": "stream",
     "text": [
      "R2 score of testset was 0.65\n"
     ]
    }
   ],
   "source": [
    "from sklearn.metrics import r2_score\n",
    "print(f\"R2 score of testset was {r2_score(test_y_reg, reg_y):.2f}\")"
   ]
  },
  {
   "cell_type": "code",
   "execution_count": null,
   "metadata": {},
   "outputs": [],
   "source": []
  }
 ],
 "metadata": {
  "kernelspec": {
   "display_name": "Python 3",
   "language": "python",
   "name": "python3"
  },
  "language_info": {
   "codemirror_mode": {
    "name": "ipython",
    "version": 3
   },
   "file_extension": ".py",
   "mimetype": "text/x-python",
   "name": "python",
   "nbconvert_exporter": "python",
   "pygments_lexer": "ipython3",
   "version": "3.7.3"
  }
 },
 "nbformat": 4,
 "nbformat_minor": 4
}
